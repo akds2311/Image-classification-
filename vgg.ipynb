{
  "nbformat": 4,
  "nbformat_minor": 0,
  "metadata": {
    "colab": {
      "name": "vgg.ipynb",
      "version": "0.3.2",
      "provenance": [],
      "include_colab_link": true
    },
    "kernelspec": {
      "name": "python3",
      "display_name": "Python 3"
    },
    "accelerator": "GPU"
  },
  "cells": [
    {
      "cell_type": "markdown",
      "metadata": {
        "id": "view-in-github",
        "colab_type": "text"
      },
      "source": [
        "<a href=\"https://colab.research.google.com/github/akds2311/Image-classification-/blob/master/vgg.ipynb\" target=\"_parent\"><img src=\"https://colab.research.google.com/assets/colab-badge.svg\" alt=\"Open In Colab\"/></a>"
      ]
    },
    {
      "metadata": {
        "id": "xrIQCZBkpyyH",
        "colab_type": "code",
        "colab": {
          "base_uri": "https://localhost:8080/",
          "height": 122
        },
        "outputId": "4e4112be-ff8e-4837-bcbc-a9576ba9dc9d"
      },
      "cell_type": "code",
      "source": [
        "from google.colab import drive\n",
        "drive.mount('/content/drive/')"
      ],
      "execution_count": 1,
      "outputs": [
        {
          "output_type": "stream",
          "text": [
            "Go to this URL in a browser: https://accounts.google.com/o/oauth2/auth?client_id=947318989803-6bn6qk8qdgf4n4g3pfee6491hc0brc4i.apps.googleusercontent.com&redirect_uri=urn%3Aietf%3Awg%3Aoauth%3A2.0%3Aoob&scope=email%20https%3A%2F%2Fwww.googleapis.com%2Fauth%2Fdocs.test%20https%3A%2F%2Fwww.googleapis.com%2Fauth%2Fdrive%20https%3A%2F%2Fwww.googleapis.com%2Fauth%2Fdrive.photos.readonly%20https%3A%2F%2Fwww.googleapis.com%2Fauth%2Fpeopleapi.readonly&response_type=code\n",
            "\n",
            "Enter your authorization code:\n",
            "··········\n",
            "Mounted at /content/drive/\n"
          ],
          "name": "stdout"
        }
      ]
    },
    {
      "metadata": {
        "id": "QvNbZffvt6K9",
        "colab_type": "code",
        "colab": {
          "base_uri": "https://localhost:8080/",
          "height": 34
        },
        "outputId": "b700d1dd-fe6b-488c-995d-1fe9827fa809"
      },
      "cell_type": "code",
      "source": [
        "!ls \"/content/drive/My Drive/Colab Notebooks\""
      ],
      "execution_count": 3,
      "outputs": [
        {
          "output_type": "stream",
          "text": [
            "siftf.ipynb  sift.ipynb  sift.py  Untitled0.ipynb\n"
          ],
          "name": "stdout"
        }
      ]
    },
    {
      "metadata": {
        "id": "_O7s2p82uj55",
        "colab_type": "code",
        "colab": {}
      },
      "cell_type": "code",
      "source": [
        "!pip install -q tensorflow"
      ],
      "execution_count": 0,
      "outputs": []
    },
    {
      "metadata": {
        "id": "6M44DMwmumiC",
        "colab_type": "code",
        "colab": {}
      },
      "cell_type": "code",
      "source": [
        "import numpy as np\n",
        "import pandas as pd\n",
        "import matplotlib.pyplot as plt\n",
        "import PIL\n",
        "from glob import glob"
      ],
      "execution_count": 0,
      "outputs": []
    },
    {
      "metadata": {
        "id": "8yDPk4_XuxBV",
        "colab_type": "code",
        "colab": {
          "base_uri": "https://localhost:8080/",
          "height": 34
        },
        "outputId": "aef0d4c1-69b1-4946-9773-84c807a51861"
      },
      "cell_type": "code",
      "source": [
        "from keras.models import Model\n",
        "from keras.layers import Flatten, Dense\n",
        "from keras.applications import VGG16"
      ],
      "execution_count": 7,
      "outputs": [
        {
          "output_type": "stream",
          "text": [
            "Using TensorFlow backend.\n"
          ],
          "name": "stderr"
        }
      ]
    },
    {
      "metadata": {
        "id": "V_C8RgmDzOaP",
        "colab_type": "code",
        "colab": {}
      },
      "cell_type": "code",
      "source": [
        "IMAGE_SIZE = [224, 224]  # we will keep the image size as (64,64). You can increase the size for better results.\n",
        "\n",
        "# loading the weights of VGG16 without the top layer. These weights are trained on Imagenet dataset.\n",
        "conv_base = VGG16(input_shape = IMAGE_SIZE + [3], weights = 'imagenet', include_top = False)  # input_shape = (64,64,3) as required by VGG\n",
        "\n",
        "# this will exclude the initial layers from training phase as there are already been trained.\n",
        "for layer in conv_base.layers:\n",
        "    layer.trainable = False\n",
        "\n",
        "x = Flatten()(conv_base.output)\n",
        "#x = Dense(128, activation = 'relu')(x)   # we can add a new fully connected layer but it will increase the execution time.\n",
        "x = Dense(5, activation = 'softmax')(x)  # adding the output layer with softmax function as this is a multi label classification problem.\n",
        "\n",
        "model = Model(inputs = conv_base.input, outputs = x)"
      ],
      "execution_count": 0,
      "outputs": []
    },
    {
      "metadata": {
        "id": "trqGYIYkzn6a",
        "colab_type": "code",
        "colab": {
          "base_uri": "https://localhost:8080/",
          "height": 850
        },
        "outputId": "dc0ff773-4faf-4594-e5f4-c2d85effb386"
      },
      "cell_type": "code",
      "source": [
        "model.compile(loss='categorical_crossentropy', optimizer='adam', metrics=['accuracy'])\n",
        "model.summary()\n"
      ],
      "execution_count": 11,
      "outputs": [
        {
          "output_type": "stream",
          "text": [
            "_________________________________________________________________\n",
            "Layer (type)                 Output Shape              Param #   \n",
            "=================================================================\n",
            "input_3 (InputLayer)         (None, 224, 224, 3)       0         \n",
            "_________________________________________________________________\n",
            "block1_conv1 (Conv2D)        (None, 224, 224, 64)      1792      \n",
            "_________________________________________________________________\n",
            "block1_conv2 (Conv2D)        (None, 224, 224, 64)      36928     \n",
            "_________________________________________________________________\n",
            "block1_pool (MaxPooling2D)   (None, 112, 112, 64)      0         \n",
            "_________________________________________________________________\n",
            "block2_conv1 (Conv2D)        (None, 112, 112, 128)     73856     \n",
            "_________________________________________________________________\n",
            "block2_conv2 (Conv2D)        (None, 112, 112, 128)     147584    \n",
            "_________________________________________________________________\n",
            "block2_pool (MaxPooling2D)   (None, 56, 56, 128)       0         \n",
            "_________________________________________________________________\n",
            "block3_conv1 (Conv2D)        (None, 56, 56, 256)       295168    \n",
            "_________________________________________________________________\n",
            "block3_conv2 (Conv2D)        (None, 56, 56, 256)       590080    \n",
            "_________________________________________________________________\n",
            "block3_conv3 (Conv2D)        (None, 56, 56, 256)       590080    \n",
            "_________________________________________________________________\n",
            "block3_pool (MaxPooling2D)   (None, 28, 28, 256)       0         \n",
            "_________________________________________________________________\n",
            "block4_conv1 (Conv2D)        (None, 28, 28, 512)       1180160   \n",
            "_________________________________________________________________\n",
            "block4_conv2 (Conv2D)        (None, 28, 28, 512)       2359808   \n",
            "_________________________________________________________________\n",
            "block4_conv3 (Conv2D)        (None, 28, 28, 512)       2359808   \n",
            "_________________________________________________________________\n",
            "block4_pool (MaxPooling2D)   (None, 14, 14, 512)       0         \n",
            "_________________________________________________________________\n",
            "block5_conv1 (Conv2D)        (None, 14, 14, 512)       2359808   \n",
            "_________________________________________________________________\n",
            "block5_conv2 (Conv2D)        (None, 14, 14, 512)       2359808   \n",
            "_________________________________________________________________\n",
            "block5_conv3 (Conv2D)        (None, 14, 14, 512)       2359808   \n",
            "_________________________________________________________________\n",
            "block5_pool (MaxPooling2D)   (None, 7, 7, 512)         0         \n",
            "_________________________________________________________________\n",
            "flatten_3 (Flatten)          (None, 25088)             0         \n",
            "_________________________________________________________________\n",
            "dense_2 (Dense)              (None, 5)                 125445    \n",
            "=================================================================\n",
            "Total params: 14,840,133\n",
            "Trainable params: 125,445\n",
            "Non-trainable params: 14,714,688\n",
            "_________________________________________________________________\n"
          ],
          "name": "stdout"
        }
      ]
    },
    {
      "metadata": {
        "id": "NaGvr5HezqsE",
        "colab_type": "code",
        "colab": {}
      },
      "cell_type": "code",
      "source": [
        "from keras.preprocessing.image import ImageDataGenerator\n",
        "from keras.applications.vgg16 import preprocess_input\n",
        "\n",
        "training_datagen = ImageDataGenerator(\n",
        "                                    rescale=1./255,   # all pixel values will be between 0 an 1\n",
        "                                    shear_range=0.2,\n",
        "                                    zoom_range=0.2,\n",
        "                                    horizontal_flip=True,\n",
        "                                    preprocessing_function=preprocess_input, validation_split=0.1993)\n"
      ],
      "execution_count": 0,
      "outputs": []
    },
    {
      "metadata": {
        "id": "44Znmn2Ez0ph",
        "colab_type": "code",
        "colab": {}
      },
      "cell_type": "code",
      "source": [
        "training_dir=\"/content/drive/My Drive/Colab Notebooks/training\"\n",
        "validation_dir=\"/content/drive/My Drive/Colab Notebooks/training\"\n",
        "image_files = glob(training_dir + '/*/*.jpg')\n",
        "# valid_image_files = glob(validation_dir + '/*/*.jpg')\n",
        "\n",
        "# getting the number of classes i.e. type of fruits\n",
        "folders = glob(training_dir + '/*')\n",
        "num_classes = len(folders)\n"
      ],
      "execution_count": 0,
      "outputs": []
    },
    {
      "metadata": {
        "id": "pRQt7lJZ0e64",
        "colab_type": "code",
        "colab": {
          "base_uri": "https://localhost:8080/",
          "height": 68
        },
        "outputId": "387fc550-7db0-434d-e481-f914a7def6b8"
      },
      "cell_type": "code",
      "source": [
        "training_generator = training_datagen.flow_from_directory(training_dir, target_size = IMAGE_SIZE, batch_size = 200, class_mode = 'categorical',subset='training')\n",
        "validation_generator = training_datagen.flow_from_directory(validation_dir, target_size = IMAGE_SIZE, batch_size = 200, class_mode = 'categorical', subset='validation')\n",
        "training_generator.class_indices"
      ],
      "execution_count": 17,
      "outputs": [
        {
          "output_type": "stream",
          "text": [
            "Found 1943 images belonging to 5 classes.\n",
            "Found 480 images belonging to 5 classes.\n"
          ],
          "name": "stdout"
        },
        {
          "output_type": "execute_result",
          "data": {
            "text/plain": [
              "{'aircrafts': 0, 'birds': 1, 'cars': 2, 'dogs': 3, 'flowers': 4}"
            ]
          },
          "metadata": {
            "tags": []
          },
          "execution_count": 17
        }
      ]
    },
    {
      "metadata": {
        "id": "Fi69VfGj2bLT",
        "colab_type": "code",
        "colab": {}
      },
      "cell_type": "code",
      "source": [
        "training_images = 1943\n",
        "validation_images =480\n"
      ],
      "execution_count": 0,
      "outputs": []
    },
    {
      "metadata": {
        "id": "qf-ajmYJ2ifn",
        "colab_type": "code",
        "colab": {
          "base_uri": "https://localhost:8080/",
          "height": 51
        },
        "outputId": "7940c25f-2add-403c-b123-624e0e188908"
      },
      "cell_type": "code",
      "source": [
        " history = model.fit_generator(training_generator,\n",
        "                       steps_per_epoch = 100, \n",
        "                       epochs = 1,\n",
        "                       validation_data = validation_generator,\n",
        "                       validation_steps = 50) "
      ],
      "execution_count": 20,
      "outputs": [
        {
          "output_type": "stream",
          "text": [
            "Epoch 1/1\n",
            "100/100 [==============================] - 280s 3s/step - loss: 0.0914 - acc: 0.9662 - val_loss: 0.1092 - val_acc: 0.9580\n"
          ],
          "name": "stdout"
        }
      ]
    },
    {
      "metadata": {
        "id": "2rDL8Mfd5Gv0",
        "colab_type": "code",
        "colab": {
          "base_uri": "https://localhost:8080/",
          "height": 51
        },
        "outputId": "1a3bf6b7-bf42-40fa-8902-e08e45cf290e"
      },
      "cell_type": "code",
      "source": [
        "print ('Training Accuracy = ' + str(history.history['acc']))\n",
        "print ('Validation Accuracy = ' + str(history.history['val_acc']))"
      ],
      "execution_count": 21,
      "outputs": [
        {
          "output_type": "stream",
          "text": [
            "Training Accuracy = [0.9687342343460233]\n",
            "Validation Accuracy = [0.9579999935626984]\n"
          ],
          "name": "stdout"
        }
      ]
    },
    {
      "metadata": {
        "id": "s2hABh9b5-qR",
        "colab_type": "code",
        "colab": {
          "base_uri": "https://localhost:8080/",
          "height": 357
        },
        "outputId": "fc71249b-de87-489c-9bb8-f5f5a3c033a0"
      },
      "cell_type": "code",
      "source": [
        "history10 = model.fit_generator(training_generator,\n",
        "                       steps_per_epoch = 100, \n",
        "                       epochs = 10,\n",
        "                       validation_data = validation_generator,\n",
        "                       validation_steps = 50) "
      ],
      "execution_count": 22,
      "outputs": [
        {
          "output_type": "stream",
          "text": [
            "Epoch 1/10\n",
            "100/100 [==============================] - 74s 735ms/step - loss: 0.0354 - acc: 0.9890 - val_loss: 0.0515 - val_acc: 0.9840\n",
            "Epoch 2/10\n",
            "100/100 [==============================] - 68s 677ms/step - loss: 0.0254 - acc: 0.9940 - val_loss: 0.0398 - val_acc: 0.9830\n",
            "Epoch 3/10\n",
            "100/100 [==============================] - 67s 674ms/step - loss: 0.0089 - acc: 0.9995 - val_loss: 0.0493 - val_acc: 0.9830\n",
            "Epoch 4/10\n",
            "100/100 [==============================] - 69s 690ms/step - loss: 0.0160 - acc: 0.9960 - val_loss: 0.0283 - val_acc: 0.9890\n",
            "Epoch 5/10\n",
            "100/100 [==============================] - 69s 695ms/step - loss: 0.0067 - acc: 0.9995 - val_loss: 0.0440 - val_acc: 0.9810\n",
            "Epoch 6/10\n",
            "100/100 [==============================] - 70s 699ms/step - loss: 0.0063 - acc: 0.9990 - val_loss: 0.0496 - val_acc: 0.9850\n",
            "Epoch 7/10\n",
            "100/100 [==============================] - 70s 697ms/step - loss: 0.0046 - acc: 0.9995 - val_loss: 0.0332 - val_acc: 0.9900\n",
            "Epoch 8/10\n",
            "100/100 [==============================] - 70s 701ms/step - loss: 0.0029 - acc: 1.0000 - val_loss: 0.0260 - val_acc: 0.9920\n",
            "Epoch 9/10\n",
            "100/100 [==============================] - 68s 682ms/step - loss: 0.0058 - acc: 0.9990 - val_loss: 0.0410 - val_acc: 0.9860\n",
            "Epoch 10/10\n",
            "100/100 [==============================] - 68s 681ms/step - loss: 0.0071 - acc: 0.9985 - val_loss: 0.0487 - val_acc: 0.9870\n"
          ],
          "name": "stdout"
        }
      ]
    },
    {
      "metadata": {
        "id": "UcbAvm2O9OAW",
        "colab_type": "code",
        "colab": {}
      },
      "cell_type": "code",
      "source": [
        "from keras.models import load_model\n",
        "\n",
        "model.save_weights('/content/drive/My Drive/Colab Notebooks/history10.h5')  # creates a HDF5 file 'my_model.h5'\n",
        "# del model  # deletes the existing model\n",
        "\n",
        "# returns a compiled model\n",
        "# identical to the previous one\n",
        "# model = load_model('my_model.h5')"
      ],
      "execution_count": 0,
      "outputs": []
    }
  ]
}